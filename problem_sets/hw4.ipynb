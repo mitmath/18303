{
 "cells": [
  {
   "attachments": {},
   "cell_type": "markdown",
   "metadata": {},
   "source": [
    "# 18.303 Homework 4 Solutions\n",
    "\n",
    "This notebook accompanies homework 4 on finite-difference schemes for time-dependent PDEs. Execute the following code to import some useful linear algebra and plotting utilities used below."
   ]
  },
  {
   "cell_type": "code",
   "execution_count": null,
   "metadata": {},
   "outputs": [],
   "source": [
    "using LinearAlgebra\n",
    "using SparseArrays\n",
    "using Plots"
   ]
  },
  {
   "cell_type": "markdown",
   "metadata": {},
   "source": [
    "### Transport Equation\n",
    "\n",
    "Build your second-order accurate finite-difference matrices for the spatial derivatives in your second-order transport scheme below. (**Hint:** you'll need approximations for both first and second derivatives.)\n",
    "\n",
    "Note that scaling factors like $1/(2\\Delta x)$ and $1/(\\Delta x)^2$ are incorporated into the stability factor $\\sigma$ in the time-stepping code below, so your difference matrices should just have simple integer entries."
   ]
  },
  {
   "cell_type": "code",
   "execution_count": null,
   "metadata": {},
   "outputs": [],
   "source": [
    "## build differentiation matrix approximation d/dx\n",
    "function fdiff1(n)\n",
    "    # your code goes here\n",
    "    return D\n",
    "end\n",
    "\n",
    "# check your code with a 12 x 12 difference matrix\n",
    "fdiff2(12)"
   ]
  },
  {
   "cell_type": "code",
   "execution_count": null,
   "metadata": {},
   "outputs": [],
   "source": [
    "## build differentiation matrix approximation d^2/dx^2\n",
    "function fdiff2C2(n)\n",
    "    # your code goes here\n",
    "    return D\n",
    "end\n",
    "\n",
    "# check your code with a 12 x 12 difference matrix\n",
    "fdiff2C2(12)"
   ]
  },
  {
   "cell_type": "markdown",
   "metadata": {},
   "source": [
    "Fill in the time_step function below to implement your second-order time stepping scheme and simulate transport with the provided bimodal initial condition."
   ]
  },
  {
   "cell_type": "code",
   "execution_count": null,
   "metadata": {},
   "outputs": [],
   "source": [
    "# computational grid = periodic interval [0, 1)\n",
    "n = 100\n",
    "Δx = 2/n\n",
    "xgrid = LinRange(-1,1-Δx,n)\n",
    "\n",
    "# second-order spatial discretizations\n",
    "D1 = fdiff1C1(n)\n",
    "D2 = fdiff2C2(n)            # second partial derivative with respect to spatial variable\n",
    "c = 0.1                     # wave speed\n",
    "\n",
    "# time stepping (step forward in time with time-step h_t using Forward Euler)\n",
    "Δt = 0.2                    # time step\n",
    "σ = c * Δt / (Δx)           # critical parameter for stability\n",
    "function time_step(D1, D2, u1, σ)\n",
    "    # your time stepping scheme goes here\n",
    "end\n",
    "\n",
    "# initial condition\n",
    "u1 = 2*exp.(-10*cos.(pi*xgrid).^2)\n",
    "\n",
    "# time stepping gif\n",
    "anim = Animation()\n",
    "m = 200                         # number of steps in time \n",
    "for k ∈ 1:m                     # animate solution\n",
    "    plot(xgrid, u1, linecolor = :blue, legend = false)\n",
    "    ylims!(0.0,6)\n",
    "    u1 = time_step(D1, D2, u1, σ)\n",
    "    frame(anim)\n",
    "end\n",
    "display(σ)      # print out value of sigma to compare with 0.5 stability criterion\n",
    "gif(anim)       # play movie of solution\n"
   ]
  },
  {
   "cell_type": "markdown",
   "metadata": {},
   "source": [
    "### 2D Wave equation"
   ]
  },
  {
   "cell_type": "markdown",
   "metadata": {},
   "source": [
    "Build your second-order accurate finite-difference matrix for the Laplacian on an $n\\times n$ computational grid on the unit square, $[-1,1]\\times[-1,1]$. Your code should produce an $n^2\\times n^2$ matrix that takes in an $n^2\\times 1$ vector of function values on the grid as input and produces an $n^2\\times 1$ vector of values of the approximate Laplacian of that function on the grid."
   ]
  },
  {
   "cell_type": "code",
   "execution_count": null,
   "metadata": {},
   "outputs": [],
   "source": [
    "## build n^2 x n^2 finite difference approximation of the Laplacian\n",
    "function fdiff2D(n)\n",
    "    # your code goes here\n",
    "    return D2\n",
    "end\n",
    "\n",
    "# Test out a 16 x 16 sample\n",
    "fdiff2D(10)"
   ]
  },
  {
   "cell_type": "markdown",
   "metadata": {},
   "source": [
    "Fill in the time_step function to implement your second-order time-stepping scheme for the wave equation on the unit square. Don't forget to fill in a second-order approximation to $u_1$ to get your scheme off to a good start."
   ]
  },
  {
   "cell_type": "code",
   "execution_count": null,
   "metadata": {},
   "outputs": [],
   "source": [
    "# computational grid = interval (0, 1)\n",
    "n = 50\n",
    "Δx = 2/n\n",
    "xgrid = LinRange(-1+Δx,1-Δx,n)\n",
    "\n",
    "# spatial discretization\n",
    "D = fdiff2D(n)              # Laplacian with respect to spatial variables on 2D grid (vec'd)\n",
    "c = 1                       # wave speed\n",
    "\n",
    "# time stepping (step forward in time with time-step h_t using Forward Euler)\n",
    "Δt = 0.02                   # time step\n",
    "σ = c * Δt / Δx             # critical parameter for stability\n",
    "function time_step(D,u0,ht)\n",
    "    u2 = # your time-stepping scheme goes here! Check the 1D wave example in fd_stability.ipynb to compare implementation syntax/notation\n",
    "    return [u2 u0[:,1]]\n",
    "end\n",
    "\n",
    "# initial condition (initial velocity = 0 for this example)\n",
    "g = 2*exp.(-15*xgrid.^2)            # x component of initial condition\n",
    "u0 = vec(g*transpose(g))            # initial condition (symmetric Gaussian bump) on 2D grid (vec'd)\n",
    "u1 = # your second order approximation to u1 = u(x,t1) on 2D grid (vec'd) goes here\n",
    "\n",
    "# time stepping gif\n",
    "anim = Animation()\n",
    "m = 200                         # number of steps in time \n",
    "for k ∈ 1:m                     # animate solution\n",
    "    surface(xgrid, xgrid, reshape(u1[:,1],n,n), zlimits=(-2,2), legend = false)\n",
    "    u1 = time_step(D,u1,Δt)\n",
    "    frame(anim)\n",
    "end\n",
    "display(σ)      # print out value of sigma to compare with 0.5 stability criterion\n",
    "gif(anim)       # play movie of solution\n"
   ]
  }
 ],
 "metadata": {
  "@webio": {
   "lastCommId": null,
   "lastKernelId": null
  },
  "kernelspec": {
   "display_name": "Julia 1.6.3",
   "language": "julia",
   "name": "julia-1.6"
  },
  "language_info": {
   "file_extension": ".jl",
   "mimetype": "application/julia",
   "name": "julia",
   "version": "1.6.3"
  }
 },
 "nbformat": 4,
 "nbformat_minor": 1
}
